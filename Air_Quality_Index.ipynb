{
 "cells": [
  {
   "cell_type": "markdown",
   "metadata": {},
   "source": [
    "Downloading the climate data for Bangalore from 2013 to 2018 https://en.tutiempo.net/climate/india.html"
   ]
  },
  {
   "cell_type": "code",
   "execution_count": 5,
   "metadata": {},
   "outputs": [],
   "source": [
    "import os\n",
    "import time\n",
    "import requests\n",
    "import sys"
   ]
  },
  {
   "cell_type": "markdown",
   "metadata": {},
   "source": [
    "Collect the data for each and every month from 2013 till 2018"
   ]
  },
  {
   "cell_type": "code",
   "execution_count": 10,
   "metadata": {},
   "outputs": [],
   "source": [
    "# function to retrive the data\n",
    "def retrieve_html():\n",
    "    for year in range(2013,2019):\n",
    "        for month in range (1, 13):\n",
    "            if(month < 10):\n",
    "                url = \"https://en.tutiempo.net/climate/0{}-{}/ws-432950.html\".format(month,year)\n",
    "            else:\n",
    "                url = \"https://en.tutiempo.net/climate/{}-{}/ws-432950.html\".format(month,year)\n",
    "                \n",
    "            texts = requests.get(url)\n",
    "            text_utf = texts.text.encode('utf-8')\n",
    "        \n",
    "            if not os.path.exists(\"/home/raj/Desktop/Data/Html_Data/{}\".format(year)):\n",
    "                os.makedirs(\"/home/raj/Desktop/Data/Html_Data/{}\".format(year))\n",
    "\n",
    "            with open(\"/home/raj/Desktop/Data/Html_Data/{}/{}.html\".format(year,month),\"wb\") as output:\n",
    "                output.write(text_utf)\n",
    "            \n",
    "        # flush everything created in that particular file    \n",
    "        sys.stdout.flush()\n",
    "        \n",
    "        \n",
    "if __name__==\"__main__\":\n",
    "   # start_time = time.time()\n",
    "    retrieve_html()\n",
    "  #  stop_time = time.time\n",
    "  #  print(\"time taken {}\".format(stop_time-start_time))"
   ]
  },
  {
   "cell_type": "markdown",
   "metadata": {},
   "source": [
    "T :\tAverage Temperature (°C)\n",
    "<br>\n",
    "TM : Maximum temperature (°C)\n",
    "<br>\n",
    "Tm\t:Minimum temperature (°C)\n",
    "<br>\n",
    "SLP\t:Atmospheric pressure at sea level (hPa)\n",
    "<br>\n",
    "H\t:Average relative humidity (%)\n",
    "<br>\n",
    "PP\t:Total rainfall and / or snowmelt (mm)\n",
    "<br>\n",
    "VV\t:Average visibility (Km)\n",
    "<br>\n",
    "V\t:Average wind speed (Km/h)\n",
    "<br>\n",
    "VM\t:Maximum sustained wind speed (Km/h)\n",
    "<br>\n",
    "VG\t:Maximum speed of wind (Km/h)\n",
    "<br>\n",
    "RA\t:Indicate if there was rain or drizzle (In the monthly average, total days it rained)\n",
    "<br>\n",
    "SN\t:Snow indicator (In the monthly average, total days that snowed)\n",
    "<br>\n",
    "TS\t:Indicates whether there storm (In the monthly average, Total days with thunderstorm)\n",
    "<br>\n",
    "FG\t:Indicates whether there was fog (In the monthly average, Total days with fog)\n"
   ]
  },
  {
   "cell_type": "code",
   "execution_count": null,
   "metadata": {},
   "outputs": [],
   "source": []
  }
 ],
 "metadata": {
  "kernelspec": {
   "display_name": "Python 3",
   "language": "python",
   "name": "python3"
  },
  "language_info": {
   "codemirror_mode": {
    "name": "ipython",
    "version": 3
   },
   "file_extension": ".py",
   "mimetype": "text/x-python",
   "name": "python",
   "nbconvert_exporter": "python",
   "pygments_lexer": "ipython3",
   "version": "3.8.5"
  }
 },
 "nbformat": 4,
 "nbformat_minor": 4
}
